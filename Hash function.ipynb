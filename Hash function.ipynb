{
 "cells": [
  {
   "cell_type": "code",
   "execution_count": 1,
   "metadata": {},
   "outputs": [],
   "source": [
    "import numpy as np\n",
    "import pandas as pd\n",
    "import string"
   ]
  },
  {
   "cell_type": "markdown",
   "metadata": {},
   "source": [
    "## 1. Convert poem to hash"
   ]
  },
  {
   "cell_type": "code",
   "execution_count": 2,
   "metadata": {},
   "outputs": [],
   "source": [
    "text = 'For I have learned that every heart will get what it prays for most'"
   ]
  },
  {
   "cell_type": "code",
   "execution_count": 1,
   "metadata": {},
   "outputs": [
    {
     "name": "stdout",
     "output_type": "stream",
     "text": [
      "The hexadecimal equivalent of MD5 hash is : 59bdc13bf3613f3268df0fa9d4485b9d\n"
     ]
    }
   ],
   "source": [
    "import hashlib\n",
    "text = 'For I have learned that every heart will get what it prays for most'\n",
    "\n",
    "result = hashlib.md5(text.encode())\n",
    "\n",
    "print(\"The hexadecimal equivalent of MD5 hash is : \", end =\"\")\n",
    "print(result.hexdigest())"
   ]
  },
  {
   "cell_type": "code",
   "execution_count": 2,
   "metadata": {},
   "outputs": [
    {
     "name": "stdout",
     "output_type": "stream",
     "text": [
      "The hexadecimal equivalent of SHA-256 hash is : f490f51a561743de032b1aa69e998ce7b481392634c6fd183b84e8b7c0c642bc\n"
     ]
    }
   ],
   "source": [
    "import hashlib\n",
    "text = 'For I have learned that every heart will get what it prays for most'\n",
    "\n",
    "result = hashlib.sha256(text.encode())\n",
    "\n",
    "print(\"The hexadecimal equivalent of SHA-256 hash is : \", end =\"\")\n",
    "print(result.hexdigest())"
   ]
  },
  {
   "cell_type": "code",
   "execution_count": 3,
   "metadata": {},
   "outputs": [],
   "source": [
    "def md5hash(text):\n",
    "    import hashlib\n",
    "    str_hash =  hashlib.md5(text.encode())\n",
    "    return str_hash.hexdigest()"
   ]
  },
  {
   "cell_type": "code",
   "execution_count": 6,
   "metadata": {},
   "outputs": [
    {
     "name": "stdout",
     "output_type": "stream",
     "text": [
      "59bdc13bf3613f3268df0fa9d4485b9d\n"
     ]
    }
   ],
   "source": [
    "text = 'For I have learned that every heart will get what it prays for most'\n",
    "print(md5hash(text))"
   ]
  },
  {
   "cell_type": "code",
   "execution_count": 4,
   "metadata": {},
   "outputs": [],
   "source": [
    "def sha256hash(text):\n",
    "    import hashlib\n",
    "    str_hash =  hashlib.sha256(text.encode())\n",
    "    return str_hash.hexdigest()"
   ]
  },
  {
   "cell_type": "code",
   "execution_count": 8,
   "metadata": {},
   "outputs": [
    {
     "name": "stdout",
     "output_type": "stream",
     "text": [
      "f490f51a561743de032b1aa69e998ce7b481392634c6fd183b84e8b7c0c642bc\n"
     ]
    }
   ],
   "source": [
    "text = 'For I have learned that every heart will get what it prays for most'\n",
    "print(sha256hash(text))"
   ]
  },
  {
   "cell_type": "markdown",
   "metadata": {},
   "source": [
    "## 2. Add a single character to find matching hash\n",
    "Add a single character to the end of the text to find hash starts with a 0"
   ]
  },
  {
   "cell_type": "code",
   "execution_count": 11,
   "metadata": {},
   "outputs": [],
   "source": [
    "def findMD5match(text):\n",
    "    import string\n",
    "\n",
    "    c_list = [char for char in string.ascii_letters] # Generate list of all characters\n",
    "    hash_list = [md5hash(text+c) for c in c_list] # add character to end of text to hash\n",
    "    first_h = [h[0] for h in hash_list] # Get the first character of returned hash list\n",
    "    h_idx = [i for i, x in enumerate(first_h) if x == \"0\"] # Find index of hash starts \"0\"\n",
    "    match_c_list = [c_list[idx] for idx in h_idx] # Get the matching characters list\n",
    "    match_h_list = [hash_list[idx] for idx in h_idx] # Get the matching hash list\n",
    "    tuples = zip(match_c_list, match_h_list)\n",
    "    result = [t for t in tuples]\n",
    "    return result"
   ]
  },
  {
   "cell_type": "code",
   "execution_count": 6,
   "metadata": {},
   "outputs": [],
   "source": [
    "def findSHA256match(text):\n",
    "    import string\n",
    "\n",
    "    c_list = [char for char in string.ascii_letters] # Generate list of all characters\n",
    "    hash_list = [sha256hash(text+c) for c in c_list] # add character to end of text to hash\n",
    "    first_h = [h[0] for h in hash_list] # Get the first character of returned hash list\n",
    "    h_idx = [i for i, x in enumerate(first_h) if x == \"0\"] # Find index of hash starts \"0\"\n",
    "    match_c_list = [c_list[idx] for idx in h_idx] # Get the matching characters list\n",
    "    match_h_list = [hash_list[idx] for idx in h_idx] # Get the matching hash list\n",
    "    tuples = zip(match_c_list, match_h_list)\n",
    "    result = [t for t in tuples]\n",
    "    return result"
   ]
  },
  {
   "cell_type": "code",
   "execution_count": 7,
   "metadata": {},
   "outputs": [
    {
     "name": "stdout",
     "output_type": "stream",
     "text": [
      "Ending character for MD5 hash: \n",
      "('h', '0726b03f87cdc94fe0b74ced2ed1216e')\n",
      "('s', '04143ee0993722330d49f5461efdc2d2')\n",
      "('P', '0ab1cbcc28b8edde67ed4f6f79e84770')\n",
      "Ending character for SHA-256 hash: \n",
      "('k', '0838dc7dc65d4bd35bd6457a7fd027a03ca3371db228dd32f849bb048e257f6b')\n",
      "('o', '095368135e485e4c4295343c5ea7c5f5c25fa60143d555546595eb14943293da')\n",
      "('z', '02fa1443df0246b2594f6b6e8cf0205c3c049cf0880ed792a67a143748474194')\n",
      "('C', '0600ba15ac2414580c67d7395ff95d4d2e2a300b6a92c3c687e14ddef3e0e0f0')\n",
      "('K', '0da7b595675535a6eacbc357dbe8a3eaa61c501b24a537c1be04e708abd3d863')\n",
      "('O', '073896dad8ff9fc60ac6ba901f797205219b2860d3d9c2ba97c005fb070e16df')\n"
     ]
    }
   ],
   "source": [
    "print(\"Ending character for MD5 hash: \")\n",
    "print(*findMD5match(text), sep = \"\\n\")\n",
    "print(\"Ending character for SHA-256 hash: \")\n",
    "print(*findSHA256match(text), sep = \"\\n\")"
   ]
  },
  {
   "cell_type": "markdown",
   "metadata": {},
   "source": [
    "## 3. Find a 8 characters string for hash starts with \"000\""
   ]
  },
  {
   "cell_type": "code",
   "execution_count": 37,
   "metadata": {},
   "outputs": [],
   "source": [
    "def findMD5match8(text, c_list, method, target=\"0\"):\n",
    "    import string\n",
    "\n",
    "    if method == \"MD5\":\n",
    "        hashfuc = md5hash\n",
    "    if method == \"SHA256\":\n",
    "        hashfuc = sha256hash\n",
    "    hash_list = [hashfuc(text+c) for c in c_list] # add character to end of text to hash\n",
    "    first_h = [h[:3] for h in hash_list] # Get the first character of returned hash list\n",
    "    h_idx = [i for i, x in enumerate(first_h) if x == target] # Find index of hash starts \"0\"\n",
    "    match_c_list = [c_list[idx] for idx in h_idx] # Get the matching characters list\n",
    "    match_h_list = [hash_list[idx] for idx in h_idx] # Get the matching hash list\n",
    "    tuples = zip(match_c_list, match_h_list)\n",
    "    result = [t for t in tuples]\n",
    "    return result"
   ]
  },
  {
   "cell_type": "code",
   "execution_count": 38,
   "metadata": {},
   "outputs": [],
   "source": [
    "def find000string(text, method=\"MD5\"):\n",
    "    twochar = [char1+char2 for char1 in string.ascii_letters for char2 in string.ascii_letters]\n",
    "    fourchar = [char12 + char34 for char12 in twochar for char34 in twochar]\n",
    "    \n",
    "    for i, char1234 in enumerate(fourchar):\n",
    "        eightchar = [char1234+char5678 for char5678 in fourchar]\n",
    "        result = findMD5match8(text, eightchar, method, target=\"000\")\n",
    "        if len(result)!= 0:\n",
    "            break\n",
    "\n",
    "    return result[0]"
   ]
  },
  {
   "cell_type": "code",
   "execution_count": 39,
   "metadata": {},
   "outputs": [
    {
     "name": "stdout",
     "output_type": "stream",
     "text": [
      "8 ending character for MD5 hash starts with 000: \n",
      "('aaaaabqZ', '000ba0afc40cdf2abf68c43c73699017')\n",
      "8 ending character for MD5 hash starts with 000: \n",
      "('aaaaaaOQ', '000bdc915ec4cbf70e9e64c3d081fe3116d38a83c605f58352df96a8c982c5ec')\n"
     ]
    }
   ],
   "source": [
    "print(\"8 ending character for MD5 hash starts with 000: \")\n",
    "print(find000string(text, \"MD5\"))\n",
    "\n",
    "print(\"8 ending character for MD5 hash starts with 000: \")\n",
    "print(find000string(text, \"SHA256\"))"
   ]
  },
  {
   "cell_type": "code",
   "execution_count": null,
   "metadata": {},
   "outputs": [],
   "source": []
  }
 ],
 "metadata": {
  "kernelspec": {
   "display_name": "Python 3",
   "language": "python",
   "name": "python3"
  },
  "language_info": {
   "codemirror_mode": {
    "name": "ipython",
    "version": 3
   },
   "file_extension": ".py",
   "mimetype": "text/x-python",
   "name": "python",
   "nbconvert_exporter": "python",
   "pygments_lexer": "ipython3",
   "version": "3.7.4"
  }
 },
 "nbformat": 4,
 "nbformat_minor": 2
}
